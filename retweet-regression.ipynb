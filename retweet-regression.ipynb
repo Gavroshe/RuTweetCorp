{
 "cells": [
  {
   "cell_type": "markdown",
   "metadata": {},
   "source": [
    "# Часть 2. Предсказание количества ретвитов твита в выборке RuTweetCorp\n"
   ]
  },
  {
   "cell_type": "markdown",
   "metadata": {},
   "source": [
    "## Загрузим и изучим данные "
   ]
  },
  {
   "cell_type": "code",
   "execution_count": 2,
   "metadata": {},
   "outputs": [],
   "source": [
    "import pandas as pd\n"
   ]
  },
  {
   "cell_type": "code",
   "execution_count": 3,
   "metadata": {},
   "outputs": [
    {
     "name": "stdout",
     "output_type": "stream",
     "text": [
      "(114911, 12)\n",
      "(111923, 12)\n"
     ]
    }
   ],
   "source": [
    "columns = ['id', 'tdate', 'tmane', 'ttext', 'ttype', 'trep', 'trtw', 'tfav', 'tstcount', 'tfol', 'tfrien', 'listcount']\n",
    "pos = pd.read_csv('positive.csv', sep=';', names=columns)\n",
    "print(pos.shape)\n",
    "neg = pd.read_csv('negative.csv', sep=';', names=columns)\n",
    "print(neg.shape)"
   ]
  },
  {
   "cell_type": "code",
   "execution_count": 4,
   "metadata": {},
   "outputs": [],
   "source": [
    "data = pos.append(neg)\n"
   ]
  },
  {
   "cell_type": "markdown",
   "metadata": {},
   "source": [
    "Посмотрим на твиты с большим количеством ретвитов\n"
   ]
  },
  {
   "cell_type": "code",
   "execution_count": 5,
   "metadata": {},
   "outputs": [
    {
     "data": {
      "text/html": [
       "<div>\n",
       "<style scoped>\n",
       "    .dataframe tbody tr th:only-of-type {\n",
       "        vertical-align: middle;\n",
       "    }\n",
       "\n",
       "    .dataframe tbody tr th {\n",
       "        vertical-align: top;\n",
       "    }\n",
       "\n",
       "    .dataframe thead th {\n",
       "        text-align: right;\n",
       "    }\n",
       "</style>\n",
       "<table border=\"1\" class=\"dataframe\">\n",
       "  <thead>\n",
       "    <tr style=\"text-align: right;\">\n",
       "      <th></th>\n",
       "      <th>id</th>\n",
       "      <th>tdate</th>\n",
       "      <th>tmane</th>\n",
       "      <th>ttext</th>\n",
       "      <th>ttype</th>\n",
       "      <th>trep</th>\n",
       "      <th>trtw</th>\n",
       "      <th>tfav</th>\n",
       "      <th>tstcount</th>\n",
       "      <th>tfol</th>\n",
       "      <th>tfrien</th>\n",
       "      <th>listcount</th>\n",
       "    </tr>\n",
       "  </thead>\n",
       "  <tbody>\n",
       "    <tr>\n",
       "      <td>104932</td>\n",
       "      <td>411125460018683904</td>\n",
       "      <td>1386854922</td>\n",
       "      <td>angelinagunbina</td>\n",
       "      <td>RT @JaredLeto: Моя русская семья, я скучаю по ...</td>\n",
       "      <td>1</td>\n",
       "      <td>0</td>\n",
       "      <td>13817</td>\n",
       "      <td>0</td>\n",
       "      <td>7005</td>\n",
       "      <td>1719</td>\n",
       "      <td>1887</td>\n",
       "      <td>1</td>\n",
       "    </tr>\n",
       "    <tr>\n",
       "      <td>80674</td>\n",
       "      <td>410748015344091136</td>\n",
       "      <td>1386764932</td>\n",
       "      <td>Jake_and_Cake</td>\n",
       "      <td>RT @JaredLeto: Моя русская семья, я скучаю по ...</td>\n",
       "      <td>1</td>\n",
       "      <td>0</td>\n",
       "      <td>13793</td>\n",
       "      <td>0</td>\n",
       "      <td>11857</td>\n",
       "      <td>526</td>\n",
       "      <td>254</td>\n",
       "      <td>9</td>\n",
       "    </tr>\n",
       "    <tr>\n",
       "      <td>80624</td>\n",
       "      <td>410747573662523392</td>\n",
       "      <td>1386764827</td>\n",
       "      <td>rainydamon</td>\n",
       "      <td>RT @JaredLeto: Моя русская семья, я скучаю по ...</td>\n",
       "      <td>1</td>\n",
       "      <td>0</td>\n",
       "      <td>13791</td>\n",
       "      <td>0</td>\n",
       "      <td>2047</td>\n",
       "      <td>769</td>\n",
       "      <td>680</td>\n",
       "      <td>0</td>\n",
       "    </tr>\n",
       "    <tr>\n",
       "      <td>79028</td>\n",
       "      <td>410727313773723648</td>\n",
       "      <td>1386759997</td>\n",
       "      <td>run_fools</td>\n",
       "      <td>RT @JaredLeto: Моя русская семья, я скучаю по ...</td>\n",
       "      <td>1</td>\n",
       "      <td>0</td>\n",
       "      <td>13789</td>\n",
       "      <td>0</td>\n",
       "      <td>751</td>\n",
       "      <td>59</td>\n",
       "      <td>75</td>\n",
       "      <td>0</td>\n",
       "    </tr>\n",
       "    <tr>\n",
       "      <td>75569</td>\n",
       "      <td>410648531922616320</td>\n",
       "      <td>1386741214</td>\n",
       "      <td>EshikFromMars</td>\n",
       "      <td>RT @JaredLeto: Моя русская семья, я скучаю по ...</td>\n",
       "      <td>1</td>\n",
       "      <td>0</td>\n",
       "      <td>13762</td>\n",
       "      <td>0</td>\n",
       "      <td>12099</td>\n",
       "      <td>156</td>\n",
       "      <td>93</td>\n",
       "      <td>2</td>\n",
       "    </tr>\n",
       "  </tbody>\n",
       "</table>\n",
       "</div>"
      ],
      "text/plain": [
       "                        id       tdate            tmane  \\\n",
       "104932  411125460018683904  1386854922  angelinagunbina   \n",
       "80674   410748015344091136  1386764932    Jake_and_Cake   \n",
       "80624   410747573662523392  1386764827       rainydamon   \n",
       "79028   410727313773723648  1386759997        run_fools   \n",
       "75569   410648531922616320  1386741214    EshikFromMars   \n",
       "\n",
       "                                                    ttext  ttype  trep   trtw  \\\n",
       "104932  RT @JaredLeto: Моя русская семья, я скучаю по ...      1     0  13817   \n",
       "80674   RT @JaredLeto: Моя русская семья, я скучаю по ...      1     0  13793   \n",
       "80624   RT @JaredLeto: Моя русская семья, я скучаю по ...      1     0  13791   \n",
       "79028   RT @JaredLeto: Моя русская семья, я скучаю по ...      1     0  13789   \n",
       "75569   RT @JaredLeto: Моя русская семья, я скучаю по ...      1     0  13762   \n",
       "\n",
       "        tfav  tstcount  tfol  tfrien  listcount  \n",
       "104932     0      7005  1719    1887          1  \n",
       "80674      0     11857   526     254          9  \n",
       "80624      0      2047   769     680          0  \n",
       "79028      0       751    59      75          0  \n",
       "75569      0     12099   156      93          2  "
      ]
     },
     "execution_count": 5,
     "metadata": {},
     "output_type": "execute_result"
    }
   ],
   "source": [
    "data.sort_values(by=['trtw'], ascending=False).head()"
   ]
  },
  {
   "cell_type": "markdown",
   "metadata": {},
   "source": [
    "Как видим, наибольшее количество ретвитов твита пользователя @JaredLeto и у всех разное количество ретвитов, то есть мы видим срез количества на определённую дату. Попробуем найти этот первичный твит в выборке"
   ]
  },
  {
   "cell_type": "code",
   "execution_count": 6,
   "metadata": {},
   "outputs": [
    {
     "data": {
      "text/html": [
       "<div>\n",
       "<style scoped>\n",
       "    .dataframe tbody tr th:only-of-type {\n",
       "        vertical-align: middle;\n",
       "    }\n",
       "\n",
       "    .dataframe tbody tr th {\n",
       "        vertical-align: top;\n",
       "    }\n",
       "\n",
       "    .dataframe thead th {\n",
       "        text-align: right;\n",
       "    }\n",
       "</style>\n",
       "<table border=\"1\" class=\"dataframe\">\n",
       "  <thead>\n",
       "    <tr style=\"text-align: right;\">\n",
       "      <th></th>\n",
       "      <th>id</th>\n",
       "      <th>tdate</th>\n",
       "      <th>tmane</th>\n",
       "      <th>ttext</th>\n",
       "      <th>ttype</th>\n",
       "      <th>trep</th>\n",
       "      <th>trtw</th>\n",
       "      <th>tfav</th>\n",
       "      <th>tstcount</th>\n",
       "      <th>tfol</th>\n",
       "      <th>tfrien</th>\n",
       "      <th>listcount</th>\n",
       "    </tr>\n",
       "  </thead>\n",
       "  <tbody>\n",
       "  </tbody>\n",
       "</table>\n",
       "</div>"
      ],
      "text/plain": [
       "Empty DataFrame\n",
       "Columns: [id, tdate, tmane, ttext, ttype, trep, trtw, tfav, tstcount, tfol, tfrien, listcount]\n",
       "Index: []"
      ]
     },
     "execution_count": 6,
     "metadata": {},
     "output_type": "execute_result"
    }
   ],
   "source": [
    "data.loc[(data['ttext'].str.contains('Моя русская семья,')) & (~data['ttext'].str.contains('RT'))].sort_values(by=['trtw', 'tdate'])\n"
   ]
  },
  {
   "cell_type": "markdown",
   "metadata": {},
   "source": [
    "К сожалению, его нету в базе и мы не сможем делать прогноз, не зная вообще никаких параметров постящего пользователя. \n",
    "Выделим те сообщения, которые есть в базе и у которых есть ретвиты.  "
   ]
  },
  {
   "cell_type": "code",
   "execution_count": 7,
   "metadata": {},
   "outputs": [
    {
     "data": {
      "text/plain": [
       "0    189035\n",
       "1       634\n",
       "2         2\n",
       "Name: trtw, dtype: int64"
      ]
     },
     "execution_count": 7,
     "metadata": {},
     "output_type": "execute_result"
    }
   ],
   "source": [
    "data_shape = data.loc[(data['trtw'] >= 0 ) & (~data['ttext'].str.contains('RT'))].sort_values(by=['trtw', 'tdate'])\n",
    "data_shape['trtw'].value_counts()"
   ]
  },
  {
   "cell_type": "markdown",
   "metadata": {},
   "source": [
    "Выборка резко сократилась, теперь у нас несбалансированные классы. Посчитаем сразу, что в сообщениях с 2-мя ретвитами ретвитов на самом деле 1, так как с 2-мя объектами класса мы не сможем сгенерировать в будущем синтетические данные.\n"
   ]
  },
  {
   "cell_type": "code",
   "execution_count": 8,
   "metadata": {},
   "outputs": [
    {
     "data": {
      "text/plain": [
       "0    189035\n",
       "1       636\n",
       "Name: trtw, dtype: int64"
      ]
     },
     "execution_count": 8,
     "metadata": {},
     "output_type": "execute_result"
    }
   ],
   "source": [
    "data_shape.loc[data_shape['trtw'] == 2, 'trtw'] = 1\n",
    "data_shape['trtw'].value_counts()\n",
    "\n"
   ]
  },
  {
   "cell_type": "markdown",
   "metadata": {},
   "source": [
    "Оставим в выборке только те признаки, от значения которых в будущем не зависит настоящее.  "
   ]
  },
  {
   "cell_type": "code",
   "execution_count": 9,
   "metadata": {},
   "outputs": [],
   "source": [
    "data = data_shape[['tmane', 'ttext', 'ttype', 'tstcount', 'tfol', 'tfrien', 'listcount']]\n",
    "y = data_shape['trtw']"
   ]
  },
  {
   "cell_type": "markdown",
   "metadata": {},
   "source": [
    "Добавим новые признаки, количество слов и длина твита"
   ]
  },
  {
   "cell_type": "code",
   "execution_count": 10,
   "metadata": {},
   "outputs": [],
   "source": [
    "def number_of_words(doc):\n",
    "    \n",
    "    return len(doc.split(\" \"))\n"
   ]
  },
  {
   "cell_type": "code",
   "execution_count": 11,
   "metadata": {},
   "outputs": [
    {
     "name": "stderr",
     "output_type": "stream",
     "text": [
      "C:\\Users\\Alex\\Anaconda3\\lib\\site-packages\\ipykernel_launcher.py:1: SettingWithCopyWarning: \n",
      "A value is trying to be set on a copy of a slice from a DataFrame.\n",
      "Try using .loc[row_indexer,col_indexer] = value instead\n",
      "\n",
      "See the caveats in the documentation: http://pandas.pydata.org/pandas-docs/stable/user_guide/indexing.html#returning-a-view-versus-a-copy\n",
      "  \"\"\"Entry point for launching an IPython kernel.\n",
      "C:\\Users\\Alex\\Anaconda3\\lib\\site-packages\\ipykernel_launcher.py:2: SettingWithCopyWarning: \n",
      "A value is trying to be set on a copy of a slice from a DataFrame.\n",
      "Try using .loc[row_indexer,col_indexer] = value instead\n",
      "\n",
      "See the caveats in the documentation: http://pandas.pydata.org/pandas-docs/stable/user_guide/indexing.html#returning-a-view-versus-a-copy\n",
      "  \n"
     ]
    }
   ],
   "source": [
    "data['numwords'] = data['ttext'].apply(number_of_words)\n",
    "data['lentweet'] = data['ttext'].apply(lambda x: len(x))\n"
   ]
  },
  {
   "cell_type": "markdown",
   "metadata": {},
   "source": [
    "Попробуем что-нибудь с делать с балансировкой классов. \n",
    "Я воспользуюсь алгоритмом ADASYN, он более адаптивен к выборкам, чем SMOTE."
   ]
  },
  {
   "cell_type": "code",
   "execution_count": 12,
   "metadata": {},
   "outputs": [],
   "source": [
    "from imblearn.over_sampling import ADASYN\n",
    "\n",
    "ada = ADASYN(random_state=42)\n"
   ]
  },
  {
   "cell_type": "markdown",
   "metadata": {},
   "source": [
    "Подготовим pipeline, сшивающий векторизированные текстовые данные(текст и имя, имя тоже будем принимать за параметр) и остальные признаки."
   ]
  },
  {
   "cell_type": "code",
   "execution_count": 13,
   "metadata": {},
   "outputs": [],
   "source": [
    "from sklearn.compose import ColumnTransformer\n",
    "\n",
    "from sklearn.feature_extraction.text import CountVectorizer\n",
    "\n",
    "\n",
    "preprocessor = ColumnTransformer(\n",
    "        transformers=[('text', CountVectorizer(), 'ttext'), ('name', CountVectorizer(), 'tmane')])\n",
    "data_trans = preprocessor.fit_transform(data)\n"
   ]
  },
  {
   "cell_type": "markdown",
   "metadata": {},
   "source": [
    "В дальнейшее обучении будем использовать не все признаки, а 50 важнейших, подберём их, используя SVD-метод. 50 я взял как число, после которого мой компьютер не зависает при дальнейших вычислениях)\n"
   ]
  },
  {
   "cell_type": "code",
   "execution_count": 20,
   "metadata": {},
   "outputs": [],
   "source": [
    "from sklearn.decomposition import TruncatedSVD\n",
    "from sklearn.pipeline import FeatureUnion\n",
    "\n",
    "svd = TruncatedSVD(n_components=50, n_iter=4, random_state=42)\n",
    "X_features = svd.fit_transform(data_trans)\n"
   ]
  },
  {
   "cell_type": "markdown",
   "metadata": {},
   "source": [
    "Сгенерим синтетические данные"
   ]
  },
  {
   "cell_type": "code",
   "execution_count": 21,
   "metadata": {},
   "outputs": [],
   "source": [
    "X_train, y_train = ada.fit_resample(X_features, y)"
   ]
  },
  {
   "cell_type": "markdown",
   "metadata": {},
   "source": [
    "## Обучение модели"
   ]
  },
  {
   "cell_type": "code",
   "execution_count": 17,
   "metadata": {},
   "outputs": [],
   "source": [
    "import numpy as np\n",
    "from sklearn.linear_model import LinearRegression\n",
    "from sklearn.model_selection import GridSearchCV\n",
    "from sklearn.linear_model import Lasso, Ridge, SGDRegressor\n",
    "from sklearn.preprocessing import StandardScaler\n",
    "from sklearn.metrics import mean_absolute_error\n",
    "from sklearn.ensemble import RandomForestRegressor\n",
    "from xgboost import XGBRegressor\n",
    "from sklearn.model_selection import cross_val_score\n",
    "from sklearn import metrics\n",
    "from sklearn.metrics import make_scorer\n",
    "from sklearn.pipeline import Pipeline\n"
   ]
  },
  {
   "cell_type": "code",
   "execution_count": 22,
   "metadata": {},
   "outputs": [
    {
     "name": "stdout",
     "output_type": "stream",
     "text": [
      "Fitting 3 folds for each of 56 candidates, totalling 168 fits\n"
     ]
    },
    {
     "name": "stderr",
     "output_type": "stream",
     "text": [
      "[Parallel(n_jobs=-1)]: Using backend LokyBackend with 8 concurrent workers.\n",
      "[Parallel(n_jobs=-1)]: Done   2 tasks      | elapsed:   23.2s\n",
      "[Parallel(n_jobs=-1)]: Done   9 tasks      | elapsed:   30.1s\n",
      "[Parallel(n_jobs=-1)]: Done  16 tasks      | elapsed:   35.3s\n",
      "[Parallel(n_jobs=-1)]: Done  25 tasks      | elapsed:   42.0s\n",
      "[Parallel(n_jobs=-1)]: Done  34 tasks      | elapsed:   48.0s\n",
      "[Parallel(n_jobs=-1)]: Done  45 tasks      | elapsed:   59.3s\n",
      "[Parallel(n_jobs=-1)]: Done  56 tasks      | elapsed:  1.2min\n",
      "[Parallel(n_jobs=-1)]: Done  69 tasks      | elapsed:  1.4min\n",
      "[Parallel(n_jobs=-1)]: Done  82 tasks      | elapsed:  4.6min\n",
      "[Parallel(n_jobs=-1)]: Done  97 tasks      | elapsed: 10.0min\n",
      "[Parallel(n_jobs=-1)]: Done 112 tasks      | elapsed: 13.8min\n",
      "[Parallel(n_jobs=-1)]: Done 129 tasks      | elapsed: 21.1min\n",
      "[Parallel(n_jobs=-1)]: Done 146 tasks      | elapsed: 30.4min\n",
      "[Parallel(n_jobs=-1)]: Done 168 out of 168 | elapsed: 39.9min finished\n"
     ]
    },
    {
     "name": "stdout",
     "output_type": "stream",
     "text": [
      "Best score: 0.666667\n",
      "Best parameters set:\n",
      "{'memory': None, 'steps': [('scale', StandardScaler()), ('regr', Lasso(alpha=0.1))], 'verbose': False, 'scale': StandardScaler(), 'regr': Lasso(alpha=0.1), 'scale__copy': True, 'scale__with_mean': True, 'scale__with_std': True, 'regr__alpha': 0.1, 'regr__copy_X': True, 'regr__fit_intercept': True, 'regr__max_iter': 1000, 'regr__normalize': False, 'regr__positive': False, 'regr__precompute': False, 'regr__random_state': None, 'regr__selection': 'cyclic', 'regr__tol': 0.0001, 'regr__warm_start': False}\n"
     ]
    }
   ],
   "source": [
    "mae = make_scorer(mean_absolute_error)\n",
    "\n",
    "pipe = Pipeline([\n",
    "    ('scale', StandardScaler()),\n",
    "    ('regr', Lasso())\n",
    "])\n",
    "\n",
    "param_grid = [\n",
    "    {\n",
    "        'regr': [Lasso(), Ridge()],\n",
    "        'regr__alpha': np.logspace(-4, 1, 6),\n",
    "    },\n",
    "    {\n",
    "        'regr': [SGDRegressor()],\n",
    "        'regr__alpha': np.logspace(-5, 0, 6),\n",
    "        'regr__max_iter': [500, 1000],\n",
    "    },\n",
    "    \n",
    "   \n",
    "     {   'regr': [XGBRegressor(objective ='reg:linear', colsample_bytree = 0.3, learning_rate = 0.1,\n",
    "                max_depth = 5, alpha = 10, n_estimators = 10)],\n",
    "        'regr__min_child_weight': [0.5, 1],\n",
    "        'regr__gamma': [5, 10],\n",
    "        'regr__subsample': [0.7, 1.0],\n",
    "        'regr__colsample_bytree': [0.5, 1.0],\n",
    "        'regr__max_depth': [8, 12]\n",
    "        }\n",
    "]\n",
    "\n",
    "\n",
    "grid = GridSearchCV(pipe, param_grid=param_grid, cv=3, n_jobs=-1, verbose=10, scoring=mae)\n",
    "grid.fit(X_train, y_train)\n",
    "\n",
    "\n",
    "print(\"Best score: %0.6f\" % grid.best_score_)\n",
    "print(\"Best parameters set:\")\n",
    "best_parameters = grid.best_estimator_.get_params()\n",
    "print(best_parameters)\n"
   ]
  },
  {
   "cell_type": "markdown",
   "metadata": {},
   "source": [
    "Итого, лучший результат по MAE -- 0.66"
   ]
  },
  {
   "cell_type": "markdown",
   "metadata": {},
   "source": [
    "Дальнейшие возможные улучшения:\n",
    "* Использование временных характеристик, например время постинга твита\n",
    "* Использование признака частоты постинга твитов пользователем\n",
    "\n",
    "итд"
   ]
  },
  {
   "cell_type": "code",
   "execution_count": null,
   "metadata": {},
   "outputs": [],
   "source": []
  }
 ],
 "metadata": {
  "kernelspec": {
   "display_name": "Python 3",
   "language": "python",
   "name": "python3"
  },
  "language_info": {
   "codemirror_mode": {
    "name": "ipython",
    "version": 3
   },
   "file_extension": ".py",
   "mimetype": "text/x-python",
   "name": "python",
   "nbconvert_exporter": "python",
   "pygments_lexer": "ipython3",
   "version": "3.7.4"
  }
 },
 "nbformat": 4,
 "nbformat_minor": 2
}
